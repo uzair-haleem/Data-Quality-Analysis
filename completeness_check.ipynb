{
 "cells": [
  {
   "cell_type": "markdown",
   "id": "ee588e65",
   "metadata": {},
   "source": [
    "# 📊 Completeness Check Notebook\n",
    "This notebook checks for completeness (missing or present data) in every cell of a CSV file using the column `Sr#` as the unique row identifier."
   ]
  },
  {
   "cell_type": "code",
   "execution_count": null,
   "id": "209d25fe",
   "metadata": {},
   "outputs": [],
   "source": [
    "\n",
    "# Step 1: Import Libraries\n",
    "import pandas as pd\n"
   ]
  },
  {
   "cell_type": "code",
   "execution_count": null,
   "id": "0dde5343",
   "metadata": {},
   "outputs": [],
   "source": [
    "\n",
    "# Step 2: Load the CSV file (same folder as this notebook)\n",
    "file_path = 'Planview Data.csv'\n",
    "df = pd.read_csv(file_path)\n"
   ]
  },
  {
   "cell_type": "code",
   "execution_count": null,
   "id": "bb07b5be",
   "metadata": {},
   "outputs": [],
   "source": [
    "\n",
    "# Step 3: Validate 'Sr#' column exists\n",
    "if 'Sr#' not in df.columns:\n",
    "    raise ValueError(\"The column 'Sr#' was not found in the CSV file.\")\n"
   ]
  },
  {
   "cell_type": "code",
   "execution_count": null,
   "id": "aaf62e73",
   "metadata": {},
   "outputs": [],
   "source": [
    "\n",
    "# Step 4: Preserve 'Sr#' as row identifier\n",
    "row_ids = df['Sr#']\n",
    "\n",
    "# Step 5: Remove 'Sr#' from main data\n",
    "df_data = df.drop(columns=['Sr#'])\n",
    "\n",
    "# Step 6: Add original Sr# back as index column for melting\n",
    "df_data['Index (Row number you created earlier)'] = row_ids\n"
   ]
  },
  {
   "cell_type": "code",
   "execution_count": null,
   "id": "d9701074",
   "metadata": {},
   "outputs": [],
   "source": [
    "\n",
    "# Step 7: Melt DataFrame to long format (1 row per cell)\n",
    "melted_df = df_data.melt(id_vars='Index (Row number you created earlier)',\n",
    "                         var_name='Column Name',\n",
    "                         value_name='Value')\n"
   ]
  },
  {
   "cell_type": "code",
   "execution_count": null,
   "id": "187d0e39",
   "metadata": {},
   "outputs": [],
   "source": [
    "\n",
    "# Step 8: Apply completeness check: 1 = complete, 0 = missing\n",
    "melted_df['Complete (1 or 0)'] = melted_df['Value'].apply(\n",
    "    lambda x: 1 if pd.notnull(x) and str(x).strip() != '' else 0\n",
    ")\n"
   ]
  },
  {
   "cell_type": "code",
   "execution_count": null,
   "id": "243e96c8",
   "metadata": {},
   "outputs": [],
   "source": [
    "\n",
    "# Step 9: Add sequential Sr# column\n",
    "melted_df.insert(0, 'Sr#', range(1, len(melted_df) + 1))\n",
    "\n",
    "# Step 10: Select required columns\n",
    "final_df = melted_df[['Sr#', 'Column Name', 'Index (Row number you created earlier)', 'Complete (1 or 0)']]\n"
   ]
  },
  {
   "cell_type": "code",
   "execution_count": null,
   "id": "be3c00af",
   "metadata": {},
   "outputs": [],
   "source": [
    "\n",
    "# Step 11: Split into 4 equal parts and export\n",
    "num_parts = 4\n",
    "chunk_size = len(final_df) // num_parts\n",
    "\n",
    "for i in range(num_parts):\n",
    "    start = i * chunk_size\n",
    "    end = (i + 1) * chunk_size if i < num_parts - 1 else len(final_df)\n",
    "    part_df = final_df.iloc[start:end]\n",
    "    part_df.to_csv(f'completeness_part_{i+1}.csv', index=False)\n",
    "\n",
    "print(\"✅ Completed! Exported 4 CSV files for completeness check.\")\n"
   ]
  }
 ],
 "metadata": {},
 "nbformat": 4,
 "nbformat_minor": 5
}
