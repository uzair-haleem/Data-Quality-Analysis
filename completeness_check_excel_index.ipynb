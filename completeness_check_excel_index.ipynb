{
 "cells": [
  {
   "cell_type": "markdown",
   "id": "cbff1dc3",
   "metadata": {},
   "source": [
    "# 📊 Completeness Check Notebook\n",
    "\n",
    "This notebook checks the completeness (missing or present data) of every cell in a CSV file. It uses the **Excel-style row numbers** (i.e., 2 for the first data row assuming header is in row 1) as the row identifier."
   ]
  },
  {
   "cell_type": "code",
   "execution_count": 1,
   "id": "98775779",
   "metadata": {},
   "outputs": [],
   "source": [
    "\n",
    "# Step 1: Import Libraries\n",
    "import pandas as pd\n"
   ]
  },
  {
   "cell_type": "code",
   "execution_count": 2,
   "id": "859c1281",
   "metadata": {},
   "outputs": [
    {
     "name": "stderr",
     "output_type": "stream",
     "text": [
      "C:\\Users\\huzai\\AppData\\Local\\Temp\\ipykernel_24268\\4277711564.py:3: DtypeWarning: Columns (20,21,23,33,34,43,44,46,55,92,99,111,113,115,116,120,122,123,129,132,133,134,135,136,137,148,149,153,154,155,156,161,163,164,168,169,170,171,172,173,176,177,178,180,181,184,185,186,193,194,195,197,198,199,200,201,204,207,208,209,210,218,220,223,224) have mixed types. Specify dtype option on import or set low_memory=False.\n",
      "  df = pd.read_csv(file_path)\n"
     ]
    }
   ],
   "source": [
    "\n",
    "# Step 2: Load the CSV file (same folder as this notebook)\n",
    "file_path = 'Planview Data.csv'\n",
    "df = pd.read_csv(file_path)\n"
   ]
  },
  {
   "cell_type": "code",
   "execution_count": 3,
   "id": "7faef200",
   "metadata": {},
   "outputs": [],
   "source": [
    "\n",
    "# Step 3: Create Excel-style row index (starts at 2 because row 1 is header)\n",
    "df.index = df.index + 2  # Excel row numbers start at 2\n",
    "df.index.name = 'Index (Row number you created earlier)'\n"
   ]
  },
  {
   "cell_type": "code",
   "execution_count": 4,
   "id": "3940ec9e",
   "metadata": {},
   "outputs": [],
   "source": [
    "\n",
    "# Step 4: Melt DataFrame to long format\n",
    "melted_df = df.reset_index().melt(id_vars='Index (Row number you created earlier)', \n",
    "                                  var_name='Column Name', \n",
    "                                  value_name='Value')\n"
   ]
  },
  {
   "cell_type": "code",
   "execution_count": 5,
   "id": "b624cde9",
   "metadata": {},
   "outputs": [],
   "source": [
    "\n",
    "# Step 5: Apply completeness check: 1 = complete, 0 = missing\n",
    "melted_df['Complete (1 or 0)'] = melted_df['Value'].apply(\n",
    "    lambda x: 1 if pd.notnull(x) and str(x).strip() != '' else 0\n",
    ")\n"
   ]
  },
  {
   "cell_type": "code",
   "execution_count": 6,
   "id": "2cd3beaa",
   "metadata": {},
   "outputs": [],
   "source": [
    "\n",
    "# Step 6: Add sequential Sr# column\n",
    "melted_df.insert(0, 'Sr#', range(1, len(melted_df) + 1))\n"
   ]
  },
  {
   "cell_type": "code",
   "execution_count": 7,
   "id": "bab8064e",
   "metadata": {},
   "outputs": [],
   "source": [
    "\n",
    "# Step 7: Select required columns\n",
    "final_df = melted_df[['Sr#', 'Column Name', 'Index (Row number you created earlier)', 'Complete (1 or 0)']]\n"
   ]
  },
  {
   "cell_type": "code",
   "execution_count": 8,
   "id": "6a5ec720",
   "metadata": {},
   "outputs": [
    {
     "name": "stdout",
     "output_type": "stream",
     "text": [
      "✅ Completed! Exported 4 CSV files for completeness check.\n"
     ]
    }
   ],
   "source": [
    "\n",
    "# Step 8: Split into 4 equal parts and export\n",
    "num_parts = 4\n",
    "chunk_size = len(final_df) // num_parts\n",
    "\n",
    "for i in range(num_parts):\n",
    "    start = i * chunk_size\n",
    "    end = (i + 1) * chunk_size if i < num_parts - 1 else len(final_df)\n",
    "    part_df = final_df.iloc[start:end]\n",
    "    part_df.to_csv(f'completeness_part_{i+1}.csv', index=False)\n",
    "\n",
    "print(\"✅ Completed! Exported 4 CSV files for completeness check.\")\n"
   ]
  }
 ],
 "metadata": {
  "kernelspec": {
   "display_name": "Python 3",
   "language": "python",
   "name": "python3"
  },
  "language_info": {
   "codemirror_mode": {
    "name": "ipython",
    "version": 3
   },
   "file_extension": ".py",
   "mimetype": "text/x-python",
   "name": "python",
   "nbconvert_exporter": "python",
   "pygments_lexer": "ipython3",
   "version": "3.12.6"
  }
 },
 "nbformat": 4,
 "nbformat_minor": 5
}
