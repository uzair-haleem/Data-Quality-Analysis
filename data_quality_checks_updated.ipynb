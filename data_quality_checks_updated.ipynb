{
 "cells": [
  {
   "cell_type": "markdown",
   "id": "c31a89e3",
   "metadata": {},
   "source": [
    "# Data Quality Checks: Completeness, Uniqueness, Validity\n",
    "\n",
    "**Note:** The column `Index (Row number)` is used only as a reference and is excluded from all checks."
   ]
  },
  {
   "cell_type": "code",
   "execution_count": null,
   "id": "b589772e",
   "metadata": {},
   "outputs": [],
   "source": [
    "import pandas as pd\n",
    "\n",
    "# Load the CSV file\n",
    "file_path = 'Planview Data.csv'\n",
    "df = pd.read_csv(file_path)\n",
    "df.head()"
   ]
  },
  {
   "cell_type": "markdown",
   "id": "ce559d60",
   "metadata": {},
   "source": [
    "## Task 1: Completeness Check (Excludes 'Index (Row number)')"
   ]
  },
  {
   "cell_type": "code",
   "execution_count": null,
   "id": "4b23c13b",
   "metadata": {},
   "outputs": [],
   "source": [
    "# Drop the index column for quality checks\n",
    "columns_to_check = df.columns.drop(\"Index (Row number)\")\n",
    "\n",
    "# Convert to long format and check completeness\n",
    "df_long = df.reset_index().melt(id_vars=[\"Index (Row number)\"], value_vars=columns_to_check,\n",
    "                                var_name=\"Column Name\", value_name=\"Value\")\n",
    "df_long[\"Complete\"] = df_long[\"Value\"].notna() & (df_long[\"Value\"].astype(str).str.strip() != \"\")\n",
    "df_long[\"Complete\"] = df_long[\"Complete\"].astype(int)\n",
    "\n",
    "# Base output structure\n",
    "df_output = df_long[[\"Column Name\", \"Index (Row number)\", \"Complete\"]].copy()\n",
    "df_output[\"Unique\"] = None\n",
    "df_output[\"Validity\"] = None"
   ]
  },
  {
   "cell_type": "markdown",
   "id": "44c4cec4",
   "metadata": {},
   "source": [
    "## Task 2: Uniqueness Check"
   ]
  },
  {
   "cell_type": "code",
   "execution_count": null,
   "id": "a6b85ff9",
   "metadata": {},
   "outputs": [],
   "source": [
    "uniqueness_columns = [\"Work_ID\", \"JA_Code_Task_ID\", \"semblance_ID\", \"CRI_ID\", \"CRI_ID.1\", \"CRI_ID.2\"]\n",
    "non_unique_entries = []\n",
    "\n",
    "for col in uniqueness_columns:\n",
    "    if col in df.columns:\n",
    "        col_values = df[col]\n",
    "        value_counts = col_values.value_counts(dropna=False)\n",
    "        unique_flags = col_values.map(lambda x: 1 if value_counts[x] == 1 else 0)\n",
    "\n",
    "        mask = df_output[\"Column Name\"] == col\n",
    "        df_output.loc[mask, \"Unique\"] = unique_flags.values\n",
    "\n",
    "        # Collect non-unique entries\n",
    "        non_unique_mask = col_values.isin(value_counts[value_counts > 1].index)\n",
    "        non_unique_df = df.loc[non_unique_mask, [\"Index (Row number)\", col]].copy()\n",
    "        non_unique_df[\"Column Name\"] = col\n",
    "        non_unique_df.rename(columns={col: \"Value\"}, inplace=True)\n",
    "        non_unique_entries.append(non_unique_df)\n",
    "\n",
    "non_unique_results = pd.concat(non_unique_entries, ignore_index=True)"
   ]
  },
  {
   "cell_type": "markdown",
   "id": "8ab728ea",
   "metadata": {},
   "source": [
    "## Task 3: Validation Check"
   ]
  },
  {
   "cell_type": "code",
   "execution_count": null,
   "id": "342bc8ae",
   "metadata": {},
   "outputs": [],
   "source": [
    "valid_work_status = {\"Open/Active\", \"Completed\", \"Cancelled\", \"Denied\", \"New/Requested\"}\n",
    "valid_complexity = {\"Low\", \"Medium\", \"High\"}\n",
    "valid_colors = {\"Amber\", \"Blue\", \"Red\", \"Green\"}\n",
    "\n",
    "# Work_Status\n",
    "if \"Work_Status.1\" in df.columns:\n",
    "    valid_mask = df[\"Work_Status.1\"].isin(valid_work_status)\n",
    "    df_output.loc[df_output[\"Column Name\"] == \"Work_Status.1\", \"Validity\"] = valid_mask.astype(int).values\n",
    "\n",
    "# Complexity\n",
    "if \"Complexity\" in df.columns:\n",
    "    valid_mask = df[\"Complexity\"].isin(valid_complexity)\n",
    "    df_output.loc[df_output[\"Column Name\"] == \"Complexity\", \"Validity\"] = valid_mask.astype(int).values\n",
    "\n",
    "# Columns AJ to AO (columns 35 to 40)\n",
    "aj_to_ao_cols = df.columns[35:41]\n",
    "for col in aj_to_ao_cols:\n",
    "    if col in df.columns:\n",
    "        valid_mask = df[col].isin(valid_colors)\n",
    "        df_output.loc[df_output[\"Column Name\"] == col, \"Validity\"] = valid_mask.astype(int).values\n",
    "\n",
    "df_output[\"Validity\"] = df_output[\"Validity\"].where(df_output[\"Validity\"].notna(), None)"
   ]
  },
  {
   "cell_type": "markdown",
   "id": "24918d1c",
   "metadata": {},
   "source": [
    "## Split Output into 4 Parts"
   ]
  },
  {
   "cell_type": "code",
   "execution_count": null,
   "id": "98969341",
   "metadata": {},
   "outputs": [],
   "source": [
    "total_rows = len(df_output)\n",
    "split_size = total_rows // 4\n",
    "for i in range(4):\n",
    "    start_idx = i * split_size\n",
    "    end_idx = (i + 1) * split_size if i < 3 else total_rows\n",
    "    part_df = df_output.iloc[start_idx:end_idx]\n",
    "    part_df.to_csv(f\"final_output_part_{i + 1}.csv\", index=False)"
   ]
  },
  {
   "cell_type": "markdown",
   "id": "aab27231",
   "metadata": {},
   "source": [
    "## Save Non-Unique Entries (Optional)"
   ]
  },
  {
   "cell_type": "code",
   "execution_count": null,
   "id": "cb909c92",
   "metadata": {},
   "outputs": [],
   "source": [
    "non_unique_results.to_csv(\"non_unique_entries.csv\", index=False)"
   ]
  }
 ],
 "metadata": {},
 "nbformat": 4,
 "nbformat_minor": 5
}
